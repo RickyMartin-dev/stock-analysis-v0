{
 "cells": [
  {
   "cell_type": "markdown",
   "metadata": {},
   "source": [
    "# Stock Martket Analysis Notebook\n",
    "\n",
    "Includes:\n",
    "* EDA\n",
    "* Feature Engineering\n",
    "* Modeling (using Pytorch)\n",
    "* MLFlow tracking"
   ]
  },
  {
   "cell_type": "markdown",
   "metadata": {},
   "source": [
    "steps:\n",
    "1. Pull OHLCV data with yfinance\n",
    "2. Explore/Plot data (EDA)\n",
    "3. Engineer rolling/lag features\n",
    "4. Train Pytorch MLP classifier\n",
    "5. Track experiments in MLFlow (params, metrics, and artifacts)\n",
    "6. Package artifacts for serving"
   ]
  },
  {
   "cell_type": "markdown",
   "metadata": {},
   "source": [
    "## 0. Imports/Environment"
   ]
  },
  {
   "cell_type": "code",
   "execution_count": 126,
   "metadata": {},
   "outputs": [
    {
     "data": {
      "text/plain": [
       "True"
      ]
     },
     "execution_count": 126,
     "metadata": {},
     "output_type": "execute_result"
    }
   ],
   "source": [
    "import warnings\n",
    "warnings.filterwarnings(\"ignore\")\n",
    "\n",
    "import os, io, tarfile, json, time, math, pathlib\n",
    "from datetime import datetime\n",
    "import numpy as np\n",
    "import pandas as pd\n",
    "import yfinance as yf\n",
    "import matplotlib.pyplot as plt\n",
    "\n",
    "from sklearn.preprocessing import StandardScaler\n",
    "from sklearn.compose import ColumnTransformer\n",
    "from sklearn.pipeline import Pipeline\n",
    "from sklearn.metrics import accuracy_score, roc_auc_score, confusion_matrix, classification_report\n",
    "import joblib\n",
    "\n",
    "import torch\n",
    "import torch.nn as nn\n",
    "from torch.utils.data import DataLoader, TensorDataset\n",
    "\n",
    "import mlflow\n",
    "from mlflow import log_metric, log_param, log_artifact\n",
    "\n",
    "from dotenv import load_dotenv\n",
    "\n",
    "load_dotenv()"
   ]
  },
  {
   "cell_type": "code",
   "execution_count": 127,
   "metadata": {},
   "outputs": [
    {
     "data": {
      "text/html": [
       "<pre style=\"white-space:pre;overflow-x:auto;line-height:normal;font-family:Menlo,'DejaVu Sans Mono',consolas,'Courier New',monospace\">Initialized MLflow to track repo <span style=\"color: #008000; text-decoration-color: #008000\">\"RickyMartin-dev/stock-analysis-v0\"</span>\n",
       "</pre>\n"
      ],
      "text/plain": [
       "Initialized MLflow to track repo \u001b[32m\"RickyMartin-dev/stock-analysis-v0\"\u001b[0m\n"
      ]
     },
     "metadata": {},
     "output_type": "display_data"
    },
    {
     "data": {
      "text/html": [
       "<pre style=\"white-space:pre;overflow-x:auto;line-height:normal;font-family:Menlo,'DejaVu Sans Mono',consolas,'Courier New',monospace\">Repository RickyMartin-dev/stock-analysis-v0 initialized!\n",
       "</pre>\n"
      ],
      "text/plain": [
       "Repository RickyMartin-dev/stock-analysis-v0 initialized!\n"
      ]
     },
     "metadata": {},
     "output_type": "display_data"
    }
   ],
   "source": [
    "import dagshub\n",
    "dagshub.init(repo_owner='RickyMartin-dev', repo_name='stock-analysis-v0', mlflow=True)"
   ]
  },
  {
   "cell_type": "markdown",
   "metadata": {},
   "source": [
    "## 0. Configurations\n",
    "\n",
    "Target: AAPL"
   ]
  },
  {
   "cell_type": "code",
   "execution_count": 128,
   "metadata": {},
   "outputs": [
    {
     "name": "stderr",
     "output_type": "stream",
     "text": [
      "2025/08/08 20:57:47 WARNING mlflow.utils.autologging_utils: You are using an unsupported version of sklearn. If you encounter errors during autologging, try upgrading / downgrading sklearn to a supported version, or try upgrading MLflow.\n",
      "2025/08/08 20:57:47 INFO mlflow.tracking.fluent: Autologging successfully enabled for sklearn.\n"
     ]
    }
   ],
   "source": [
    "SYMBOL = \"AAPL\"         # Change to any ticker symbol available in yfinance\n",
    "PERIOD = \"5y\"           # '1y', '5y', etc.\n",
    "LOOKBACK = 14           # past days used to build lag features\n",
    "VAL_FRACTION = 0.2\n",
    "EPOCHS = 50\n",
    "BATCH_SIZE = 128\n",
    "LR = 3e-3\n",
    "HIDDEN = 64\n",
    "DROPOUT = 0.1\n",
    "\n",
    "# MLflow config (local by default). If you have a server, set MLFLOW_TRACKING_URI before running.\n",
    "MLFLOW_EXPERIMENT = os.getenv(\"MLFLOW_EXPERIMENT\", \"stock-analysis-notebook\")\n",
    "mlflow.set_tracking_uri(os.getenv(\"MLFLOW_TRACKING_URI\", \"file:./mlruns\"))\n",
    "# mlflow.create_experiment(MLFLOW_EXPERIMENT)\n",
    "mlflow.set_experiment(MLFLOW_EXPERIMENT)\n",
    "mlflow.autolog()\n",
    "\n",
    "ARTIFACT_DIR = pathlib.Path(\"artifacts\")\n",
    "ARTIFACT_DIR.mkdir(exist_ok=True)"
   ]
  },
  {
   "cell_type": "markdown",
   "metadata": {},
   "source": [
    "## 1. Download the Data from yfinance"
   ]
  },
  {
   "cell_type": "code",
   "execution_count": 129,
   "metadata": {},
   "outputs": [
    {
     "data": {
      "text/html": [
       "<div>\n",
       "<style scoped>\n",
       "    .dataframe tbody tr th:only-of-type {\n",
       "        vertical-align: middle;\n",
       "    }\n",
       "\n",
       "    .dataframe tbody tr th {\n",
       "        vertical-align: top;\n",
       "    }\n",
       "\n",
       "    .dataframe thead th {\n",
       "        text-align: right;\n",
       "    }\n",
       "</style>\n",
       "<table border=\"1\" class=\"dataframe\">\n",
       "  <thead>\n",
       "    <tr style=\"text-align: right;\">\n",
       "      <th>Price</th>\n",
       "      <th>Ticker</th>\n",
       "      <th>Open</th>\n",
       "      <th>High</th>\n",
       "      <th>Low</th>\n",
       "      <th>Close</th>\n",
       "      <th>Volume</th>\n",
       "    </tr>\n",
       "    <tr>\n",
       "      <th>Date</th>\n",
       "      <th></th>\n",
       "      <th></th>\n",
       "      <th></th>\n",
       "      <th></th>\n",
       "      <th></th>\n",
       "      <th></th>\n",
       "    </tr>\n",
       "  </thead>\n",
       "  <tbody>\n",
       "    <tr>\n",
       "      <th>2020-08-10</th>\n",
       "      <td>AAPL</td>\n",
       "      <td>112.599998</td>\n",
       "      <td>113.775002</td>\n",
       "      <td>110.000000</td>\n",
       "      <td>112.727501</td>\n",
       "      <td>212403600</td>\n",
       "    </tr>\n",
       "    <tr>\n",
       "      <th>2020-08-11</th>\n",
       "      <td>AAPL</td>\n",
       "      <td>111.970001</td>\n",
       "      <td>112.482498</td>\n",
       "      <td>109.107498</td>\n",
       "      <td>109.375000</td>\n",
       "      <td>187902400</td>\n",
       "    </tr>\n",
       "    <tr>\n",
       "      <th>2020-08-12</th>\n",
       "      <td>AAPL</td>\n",
       "      <td>110.497498</td>\n",
       "      <td>113.275002</td>\n",
       "      <td>110.297501</td>\n",
       "      <td>113.010002</td>\n",
       "      <td>165598000</td>\n",
       "    </tr>\n",
       "    <tr>\n",
       "      <th>2020-08-13</th>\n",
       "      <td>AAPL</td>\n",
       "      <td>114.430000</td>\n",
       "      <td>116.042503</td>\n",
       "      <td>113.927498</td>\n",
       "      <td>115.010002</td>\n",
       "      <td>210082000</td>\n",
       "    </tr>\n",
       "    <tr>\n",
       "      <th>2020-08-14</th>\n",
       "      <td>AAPL</td>\n",
       "      <td>114.830002</td>\n",
       "      <td>115.000000</td>\n",
       "      <td>113.044998</td>\n",
       "      <td>114.907501</td>\n",
       "      <td>165565200</td>\n",
       "    </tr>\n",
       "  </tbody>\n",
       "</table>\n",
       "</div>"
      ],
      "text/plain": [
       "Price      Ticker        Open        High         Low       Close     Volume\n",
       "Date                                                                        \n",
       "2020-08-10   AAPL  112.599998  113.775002  110.000000  112.727501  212403600\n",
       "2020-08-11   AAPL  111.970001  112.482498  109.107498  109.375000  187902400\n",
       "2020-08-12   AAPL  110.497498  113.275002  110.297501  113.010002  165598000\n",
       "2020-08-13   AAPL  114.430000  116.042503  113.927498  115.010002  210082000\n",
       "2020-08-14   AAPL  114.830002  115.000000  113.044998  114.907501  165565200"
      ]
     },
     "execution_count": 129,
     "metadata": {},
     "output_type": "execute_result"
    }
   ],
   "source": [
    "# df_list = []\n",
    "\n",
    "# for symbol in SYMBOLS:\n",
    "data = yf.download(SYMBOL, period=PERIOD, auto_adjust=False, progress=False)\n",
    "data = data[['Open','High','Low','Close','Volume']].dropna()\n",
    "# Collapse the MultiIndex columns\n",
    "data = data.stack(level=1, future_stack=True).reset_index()\n",
    "\n",
    "# Rename 'level_1' to 'Ticker'\n",
    "data = data.rename(columns={'level_1': 'Ticker'})\n",
    "\n",
    "# Set Date back as index\n",
    "data = data.set_index('Date')\n",
    "# df_list.append(data)\n",
    "\n",
    "# Combine all dataframes into a single dataframe\n",
    "# df = pd.concat(data)\n",
    "df = data.copy()\n",
    "df.head()"
   ]
  },
  {
   "cell_type": "code",
   "execution_count": 130,
   "metadata": {},
   "outputs": [
    {
     "data": {
      "text/html": [
       "<div>\n",
       "<style scoped>\n",
       "    .dataframe tbody tr th:only-of-type {\n",
       "        vertical-align: middle;\n",
       "    }\n",
       "\n",
       "    .dataframe tbody tr th {\n",
       "        vertical-align: top;\n",
       "    }\n",
       "\n",
       "    .dataframe thead th {\n",
       "        text-align: right;\n",
       "    }\n",
       "</style>\n",
       "<table border=\"1\" class=\"dataframe\">\n",
       "  <thead>\n",
       "    <tr style=\"text-align: right;\">\n",
       "      <th>Price</th>\n",
       "      <th>Ticker</th>\n",
       "      <th>Open</th>\n",
       "      <th>High</th>\n",
       "      <th>Low</th>\n",
       "      <th>Close</th>\n",
       "      <th>Volume</th>\n",
       "    </tr>\n",
       "    <tr>\n",
       "      <th>Date</th>\n",
       "      <th></th>\n",
       "      <th></th>\n",
       "      <th></th>\n",
       "      <th></th>\n",
       "      <th></th>\n",
       "      <th></th>\n",
       "    </tr>\n",
       "  </thead>\n",
       "  <tbody>\n",
       "    <tr>\n",
       "      <th>2020-08-10</th>\n",
       "      <td>AAPL</td>\n",
       "      <td>112.599998</td>\n",
       "      <td>113.775002</td>\n",
       "      <td>110.000000</td>\n",
       "      <td>112.727501</td>\n",
       "      <td>212403600</td>\n",
       "    </tr>\n",
       "    <tr>\n",
       "      <th>2020-08-11</th>\n",
       "      <td>AAPL</td>\n",
       "      <td>111.970001</td>\n",
       "      <td>112.482498</td>\n",
       "      <td>109.107498</td>\n",
       "      <td>109.375000</td>\n",
       "      <td>187902400</td>\n",
       "    </tr>\n",
       "    <tr>\n",
       "      <th>2020-08-12</th>\n",
       "      <td>AAPL</td>\n",
       "      <td>110.497498</td>\n",
       "      <td>113.275002</td>\n",
       "      <td>110.297501</td>\n",
       "      <td>113.010002</td>\n",
       "      <td>165598000</td>\n",
       "    </tr>\n",
       "    <tr>\n",
       "      <th>2020-08-13</th>\n",
       "      <td>AAPL</td>\n",
       "      <td>114.430000</td>\n",
       "      <td>116.042503</td>\n",
       "      <td>113.927498</td>\n",
       "      <td>115.010002</td>\n",
       "      <td>210082000</td>\n",
       "    </tr>\n",
       "    <tr>\n",
       "      <th>2020-08-14</th>\n",
       "      <td>AAPL</td>\n",
       "      <td>114.830002</td>\n",
       "      <td>115.000000</td>\n",
       "      <td>113.044998</td>\n",
       "      <td>114.907501</td>\n",
       "      <td>165565200</td>\n",
       "    </tr>\n",
       "  </tbody>\n",
       "</table>\n",
       "</div>"
      ],
      "text/plain": [
       "Price      Ticker        Open        High         Low       Close     Volume\n",
       "Date                                                                        \n",
       "2020-08-10   AAPL  112.599998  113.775002  110.000000  112.727501  212403600\n",
       "2020-08-11   AAPL  111.970001  112.482498  109.107498  109.375000  187902400\n",
       "2020-08-12   AAPL  110.497498  113.275002  110.297501  113.010002  165598000\n",
       "2020-08-13   AAPL  114.430000  116.042503  113.927498  115.010002  210082000\n",
       "2020-08-14   AAPL  114.830002  115.000000  113.044998  114.907501  165565200"
      ]
     },
     "execution_count": 130,
     "metadata": {},
     "output_type": "execute_result"
    }
   ],
   "source": [
    "df.head()"
   ]
  },
  {
   "cell_type": "code",
   "execution_count": 131,
   "metadata": {},
   "outputs": [
    {
     "data": {
      "text/html": [
       "<div>\n",
       "<style scoped>\n",
       "    .dataframe tbody tr th:only-of-type {\n",
       "        vertical-align: middle;\n",
       "    }\n",
       "\n",
       "    .dataframe tbody tr th {\n",
       "        vertical-align: top;\n",
       "    }\n",
       "\n",
       "    .dataframe thead th {\n",
       "        text-align: right;\n",
       "    }\n",
       "</style>\n",
       "<table border=\"1\" class=\"dataframe\">\n",
       "  <thead>\n",
       "    <tr style=\"text-align: right;\">\n",
       "      <th>Price</th>\n",
       "      <th>Open</th>\n",
       "      <th>High</th>\n",
       "      <th>Low</th>\n",
       "      <th>Close</th>\n",
       "      <th>Volume</th>\n",
       "    </tr>\n",
       "    <tr>\n",
       "      <th>Date</th>\n",
       "      <th></th>\n",
       "      <th></th>\n",
       "      <th></th>\n",
       "      <th></th>\n",
       "      <th></th>\n",
       "    </tr>\n",
       "  </thead>\n",
       "  <tbody>\n",
       "    <tr>\n",
       "      <th>2020-08-10</th>\n",
       "      <td>112.599998</td>\n",
       "      <td>113.775002</td>\n",
       "      <td>110.000000</td>\n",
       "      <td>112.727501</td>\n",
       "      <td>212403600</td>\n",
       "    </tr>\n",
       "    <tr>\n",
       "      <th>2020-08-11</th>\n",
       "      <td>111.970001</td>\n",
       "      <td>112.482498</td>\n",
       "      <td>109.107498</td>\n",
       "      <td>109.375000</td>\n",
       "      <td>187902400</td>\n",
       "    </tr>\n",
       "    <tr>\n",
       "      <th>2020-08-12</th>\n",
       "      <td>110.497498</td>\n",
       "      <td>113.275002</td>\n",
       "      <td>110.297501</td>\n",
       "      <td>113.010002</td>\n",
       "      <td>165598000</td>\n",
       "    </tr>\n",
       "    <tr>\n",
       "      <th>2020-08-13</th>\n",
       "      <td>114.430000</td>\n",
       "      <td>116.042503</td>\n",
       "      <td>113.927498</td>\n",
       "      <td>115.010002</td>\n",
       "      <td>210082000</td>\n",
       "    </tr>\n",
       "    <tr>\n",
       "      <th>2020-08-14</th>\n",
       "      <td>114.830002</td>\n",
       "      <td>115.000000</td>\n",
       "      <td>113.044998</td>\n",
       "      <td>114.907501</td>\n",
       "      <td>165565200</td>\n",
       "    </tr>\n",
       "  </tbody>\n",
       "</table>\n",
       "</div>"
      ],
      "text/plain": [
       "Price             Open        High         Low       Close     Volume\n",
       "Date                                                                 \n",
       "2020-08-10  112.599998  113.775002  110.000000  112.727501  212403600\n",
       "2020-08-11  111.970001  112.482498  109.107498  109.375000  187902400\n",
       "2020-08-12  110.497498  113.275002  110.297501  113.010002  165598000\n",
       "2020-08-13  114.430000  116.042503  113.927498  115.010002  210082000\n",
       "2020-08-14  114.830002  115.000000  113.044998  114.907501  165565200"
      ]
     },
     "execution_count": 131,
     "metadata": {},
     "output_type": "execute_result"
    }
   ],
   "source": [
    "df = df[['Open','High','Low','Close','Volume']].dropna()\n",
    "df.head()"
   ]
  },
  {
   "cell_type": "code",
   "execution_count": 132,
   "metadata": {},
   "outputs": [
    {
     "data": {
      "text/plain": [
       "(1256, 5)"
      ]
     },
     "execution_count": 132,
     "metadata": {},
     "output_type": "execute_result"
    }
   ],
   "source": [
    "df.shape"
   ]
  },
  {
   "cell_type": "markdown",
   "metadata": {},
   "source": [
    "2. Quick EDA"
   ]
  },
  {
   "cell_type": "code",
   "execution_count": 133,
   "metadata": {},
   "outputs": [
    {
     "data": {
      "text/html": [
       "<div>\n",
       "<style scoped>\n",
       "    .dataframe tbody tr th:only-of-type {\n",
       "        vertical-align: middle;\n",
       "    }\n",
       "\n",
       "    .dataframe tbody tr th {\n",
       "        vertical-align: top;\n",
       "    }\n",
       "\n",
       "    .dataframe thead th {\n",
       "        text-align: right;\n",
       "    }\n",
       "</style>\n",
       "<table border=\"1\" class=\"dataframe\">\n",
       "  <thead>\n",
       "    <tr style=\"text-align: right;\">\n",
       "      <th>Price</th>\n",
       "      <th>Open</th>\n",
       "      <th>High</th>\n",
       "      <th>Low</th>\n",
       "      <th>Close</th>\n",
       "      <th>Volume</th>\n",
       "    </tr>\n",
       "  </thead>\n",
       "  <tbody>\n",
       "    <tr>\n",
       "      <th>count</th>\n",
       "      <td>1256.000000</td>\n",
       "      <td>1256.000000</td>\n",
       "      <td>1256.000000</td>\n",
       "      <td>1256.000000</td>\n",
       "      <td>1.256000e+03</td>\n",
       "    </tr>\n",
       "    <tr>\n",
       "      <th>mean</th>\n",
       "      <td>170.319393</td>\n",
       "      <td>172.223575</td>\n",
       "      <td>168.552008</td>\n",
       "      <td>170.471270</td>\n",
       "      <td>7.727982e+07</td>\n",
       "    </tr>\n",
       "    <tr>\n",
       "      <th>std</th>\n",
       "      <td>35.296694</td>\n",
       "      <td>35.542347</td>\n",
       "      <td>35.139967</td>\n",
       "      <td>35.390358</td>\n",
       "      <td>3.828688e+07</td>\n",
       "    </tr>\n",
       "    <tr>\n",
       "      <th>min</th>\n",
       "      <td>104.540001</td>\n",
       "      <td>110.190002</td>\n",
       "      <td>103.099998</td>\n",
       "      <td>106.839996</td>\n",
       "      <td>2.323470e+07</td>\n",
       "    </tr>\n",
       "    <tr>\n",
       "      <th>25%</th>\n",
       "      <td>143.214996</td>\n",
       "      <td>144.877499</td>\n",
       "      <td>141.467499</td>\n",
       "      <td>143.197506</td>\n",
       "      <td>5.123852e+07</td>\n",
       "    </tr>\n",
       "    <tr>\n",
       "      <th>50%</th>\n",
       "      <td>168.784996</td>\n",
       "      <td>170.350006</td>\n",
       "      <td>167.004997</td>\n",
       "      <td>168.514999</td>\n",
       "      <td>6.846695e+07</td>\n",
       "    </tr>\n",
       "    <tr>\n",
       "      <th>75%</th>\n",
       "      <td>193.654995</td>\n",
       "      <td>194.992504</td>\n",
       "      <td>192.252499</td>\n",
       "      <td>193.605003</td>\n",
       "      <td>9.142485e+07</td>\n",
       "    </tr>\n",
       "    <tr>\n",
       "      <th>max</th>\n",
       "      <td>258.190002</td>\n",
       "      <td>260.100006</td>\n",
       "      <td>257.630005</td>\n",
       "      <td>259.019989</td>\n",
       "      <td>3.459376e+08</td>\n",
       "    </tr>\n",
       "  </tbody>\n",
       "</table>\n",
       "</div>"
      ],
      "text/plain": [
       "Price         Open         High          Low        Close        Volume\n",
       "count  1256.000000  1256.000000  1256.000000  1256.000000  1.256000e+03\n",
       "mean    170.319393   172.223575   168.552008   170.471270  7.727982e+07\n",
       "std      35.296694    35.542347    35.139967    35.390358  3.828688e+07\n",
       "min     104.540001   110.190002   103.099998   106.839996  2.323470e+07\n",
       "25%     143.214996   144.877499   141.467499   143.197506  5.123852e+07\n",
       "50%     168.784996   170.350006   167.004997   168.514999  6.846695e+07\n",
       "75%     193.654995   194.992504   192.252499   193.605003  9.142485e+07\n",
       "max     258.190002   260.100006   257.630005   259.019989  3.459376e+08"
      ]
     },
     "metadata": {},
     "output_type": "display_data"
    },
    {
     "data": {
      "image/png": "[encoded data removed]",
      "text/plain": [
       "<Figure size 640x480 with 1 Axes>"
      ]
     },
     "metadata": {},
     "output_type": "display_data"
    },
    {
     "data": {
      "image/png": "[encoded data removed]",
      "text/plain": [
       "<Figure size 640x480 with 1 Axes>"
      ]
     },
     "metadata": {},
     "output_type": "display_data"
    }
   ],
   "source": [
    "# for symbol in SYMBOLS: # needs to properly be able to handle multilpe\n",
    "display(df.describe())\n",
    "\n",
    "# Plot close price over time\n",
    "plt.figure()\n",
    "df['Close'].plot(title=f\"{SYMBOL} Close Price\")\n",
    "plt.xlabel(\"Date\")\n",
    "plt.ylabel(\"Price\")\n",
    "plt.show()\n",
    "\n",
    "# Daily returns histogram\n",
    "ret = df['Close'].pct_change().dropna()\n",
    "plt.figure()\n",
    "plt.hist(ret.values, bins=50)\n",
    "plt.title(\"Daily Returns Histogram\")\n",
    "plt.xlabel(\"Return\")\n",
    "plt.ylabel(\"Frequency\")\n",
    "plt.show()"
   ]
  },
  {
   "cell_type": "markdown",
   "metadata": {},
   "source": [
    "## 3. Build Features"
   ]
  },
  {
   "cell_type": "code",
   "execution_count": 134,
   "metadata": {},
   "outputs": [],
   "source": [
    "def build_features(data: pd.DataFrame, lookback: int = 14):\n",
    "    \n",
    "    df = data.copy().sort_index()\n",
    "\n",
    "    # extract features\n",
    "    df[\"ret_1\"] = df[\"Close\"].pct_change()\n",
    "    df[\"ma_5\"] = df[\"Close\"].rolling(5).mean()\n",
    "    df[\"ma_10\"] = df[\"Close\"].rolling(10).mean()\n",
    "    df[\"std_5\"] = df[\"Close\"].rolling(5).std()\n",
    "    df[\"vol_10\"] = df[\"ret_1\"].rolling(10).std()\n",
    "    df[\"hl_range\"] = (df[\"High\"] - df[\"Low\"]) / df[\"Close\"].shift(1)\n",
    "    df[\"v_ma_5\"] = df[\"Volume\"].rolling(5).mean()\n",
    "    df[\"v_std_5\"] = df[\"Volume\"].rolling(5).std()\n",
    "\n",
    "    # day of the week encoding with flat column names\n",
    "    df[\"dow\"] = df.index.dayofweek\n",
    "    dow = pd.get_dummies(df[\"dow\"], prefix=\"dow\")\n",
    "    dow.columns = [f\"dow_{int(col.split('_')[1])}\" for col in dow.columns]\n",
    "    \n",
    "    # concat\n",
    "    df = pd.concat([df, dow], axis=1)\n",
    "    df[\"label\"] = (df[\"Close\"] > df[\"Open\"]).astype(int)\n",
    "\n",
    "    base_feats = [\n",
    "        \"ret_1\",\"ma_5\",\"ma_10\",\"std_5\",\"vol_10\",\n",
    "        \"hl_range\",\"v_ma_5\",\"v_std_5\",\n",
    "    ] + [c for c in df.columns if c.startswith(\"dow_\")]\n",
    "\n",
    "    feat_cols = []\n",
    "    for c in base_feats:\n",
    "        for lag in range(1, lookback+1):\n",
    "            name = f\"{c}_lag{lag}\"\n",
    "            df[name] = df[c].shift(lag)\n",
    "            feat_cols.append(name)\n",
    "\n",
    "    df = df.dropna().copy()\n",
    "    X = df[feat_cols].astype(float)\n",
    "    y = df[\"label\"].astype(int)\n",
    "    return X, y"
   ]
  },
  {
   "cell_type": "code",
   "execution_count": 135,
   "metadata": {},
   "outputs": [
    {
     "data": {
      "text/plain": [
       "((1232, 182), (1232,), 0.5340909090909091)"
      ]
     },
     "execution_count": 135,
     "metadata": {},
     "output_type": "execute_result"
    }
   ],
   "source": [
    "X, y = build_features(df, LOOKBACK)\n",
    "X.shape, y.shape, y.mean()"
   ]
  },
  {
   "cell_type": "markdown",
   "metadata": {},
   "source": [
    "### Create Data Set"
   ]
  },
  {
   "cell_type": "code",
   "execution_count": 136,
   "metadata": {},
   "outputs": [
    {
     "name": "stdout",
     "output_type": "stream",
     "text": [
      "<class 'sklearn.pipeline.Pipeline'>\n"
     ]
    },
    {
     "name": "stderr",
     "output_type": "stream",
     "text": [
      "2025/08/08 20:57:54 INFO mlflow.utils.autologging_utils: Created MLflow autologging run with ID 'f8ba4193614547e6b4e34df4e53d1acb', which will track hyperparameters, performance metrics, model artifacts, and lineage information for the current sklearn workflow\n",
      "2025/08/08 20:57:55 WARNING mlflow.sklearn: Training metrics will not be recorded because training labels were not specified. To automatically record training metrics, provide training labels as inputs to the model training function.\n",
      "2025/08/08 20:57:55 WARNING mlflow.sklearn: Model was missing function: predict. Not logging python_function flavor!\n"
     ]
    },
    {
     "data": {
      "text/plain": [
       "((985, 182), (247, 182))"
      ]
     },
     "execution_count": 136,
     "metadata": {},
     "output_type": "execute_result"
    }
   ],
   "source": [
    "n = len(X)\n",
    "split = int(n * (1 - VAL_FRACTION))\n",
    "X_tr, X_val = X.iloc[:split], X.iloc[split:]\n",
    "y_tr, y_val = y.iloc[:split], y.iloc[split:]\n",
    "\n",
    "# Preprocess (StandardScaler)\n",
    "numeric_features = X.columns.tolist()\n",
    "pre = ColumnTransformer([(\"num\", StandardScaler(), numeric_features)], remainder=\"drop\")\n",
    "pre_pipe = Pipeline([(\"pre\", pre)])\n",
    "print(type(pre_pipe))\n",
    "\n",
    "X_trs = pre_pipe.fit_transform(X_tr)\n",
    "X_vals = pre_pipe.transform(X_val)\n",
    "\n",
    "X_trs.shape, X_vals.shape"
   ]
  },
  {
   "cell_type": "code",
   "execution_count": 137,
   "metadata": {},
   "outputs": [],
   "source": [
    "# print(X_tr)"
   ]
  },
  {
   "cell_type": "markdown",
   "metadata": {},
   "source": [
    "## 4. Train Pytorch Model"
   ]
  },
  {
   "cell_type": "code",
   "execution_count": 138,
   "metadata": {},
   "outputs": [],
   "source": [
    "class MLP(nn.Module):\n",
    "    def __init__(self, in_features: int, hidden: int = 64, p: float = 0.1):\n",
    "        super().__init__()\n",
    "        self.net = nn.Sequential(\n",
    "            nn.Linear(in_features, hidden),\n",
    "            nn.ReLU(),\n",
    "            nn.Dropout(p),\n",
    "            nn.Linear(hidden, hidden),\n",
    "            nn.ReLU(),\n",
    "            nn.Dropout(p),\n",
    "            nn.Linear(hidden, 1),  # logits\n",
    "        )\n",
    "    def forward(self, x):\n",
    "        return self.net(x).squeeze(-1)\n",
    "\n",
    "in_features = X_trs.shape[1]\n",
    "model = MLP(in_features, hidden=HIDDEN, p=DROPOUT)\n",
    "\n",
    "crit = nn.BCEWithLogitsLoss()\n",
    "opt = torch.optim.Adam(model.parameters(), lr=LR)\n",
    "\n",
    "tr_ds = TensorDataset(torch.from_numpy(X_trs).float(), torch.from_numpy(y_tr.values).float())\n",
    "va_ds = TensorDataset(torch.from_numpy(X_vals).float(), torch.from_numpy(y_val.values).float())\n",
    "tr_dl = DataLoader(tr_ds, batch_size=BATCH_SIZE, shuffle=True)\n",
    "va_dl = DataLoader(va_ds, batch_size=BATCH_SIZE)"
   ]
  },
  {
   "cell_type": "markdown",
   "metadata": {},
   "source": [
    "## 5. Train and Track"
   ]
  },
  {
   "cell_type": "code",
   "execution_count": 141,
   "metadata": {},
   "outputs": [],
   "source": [
    "def evaluate(model, dl):\n",
    "    model.eval()\n",
    "    probs, targs = [], []\n",
    "    with torch.no_grad():\n",
    "        for xb, yb in dl:\n",
    "            logits = model(xb)\n",
    "            p = torch.sigmoid(logits).cpu().numpy()\n",
    "            probs.append(p)\n",
    "            targs.append(yb.cpu().numpy())\n",
    "    probs = np.concatenate(probs)\n",
    "    targs = np.concatenate(targs)\n",
    "    preds = (probs >= 0.5).astype(int)\n",
    "    acc = accuracy_score(targs, preds)\n",
    "    try:\n",
    "        auc = roc_auc_score(targs, probs)\n",
    "    except Exception:\n",
    "        auc = float(\"nan\")\n",
    "    return acc, auc, probs, targs, preds"
   ]
  },
  {
   "cell_type": "code",
   "execution_count": 142,
   "metadata": {},
   "outputs": [
    {
     "name": "stdout",
     "output_type": "stream",
     "text": [
      "update 0/50\n",
      "update 10/50\n",
      "update 20/50\n",
      "update 30/50\n",
      "update 40/50\n",
      "Training complete. Check MLflow UI for runs.\n"
     ]
    }
   ],
   "source": [
    "run_name = f\"{SYMBOL}-lb{LOOKBACK}-h{HIDDEN}-lr{LR}\"\n",
    "with mlflow.start_run(run_name=run_name):\n",
    "    # Params\n",
    "    log_param(\"symbol\", SYMBOL)\n",
    "    log_param(\"lookback\", LOOKBACK)\n",
    "    log_param(\"epochs\", EPOCHS)\n",
    "    log_param(\"batch_size\", BATCH_SIZE)\n",
    "    log_param(\"lr\", LR)\n",
    "    log_param(\"hidden\", HIDDEN)\n",
    "    log_param(\"dropout\", DROPOUT)\n",
    "\n",
    "    best_val = 1e9\n",
    "    best_state = None\n",
    "\n",
    "    for epoch in range(EPOCHS):\n",
    "        if epoch % 10 == 0: print(f'update {epoch}/{EPOCHS}')\n",
    "        model.train()\n",
    "        total = 0.0\n",
    "        count = 0\n",
    "        for xb, yb in tr_dl:\n",
    "            opt.zero_grad()\n",
    "            logits = model(xb)\n",
    "            loss = crit(logits, yb)\n",
    "            loss.backward()\n",
    "            opt.step()\n",
    "            total += loss.item() * xb.size(0)\n",
    "            count += xb.size(0)\n",
    "        train_loss = total / max(count,1)\n",
    "\n",
    "        val_acc, val_auc, _, _, _ = evaluate(model, va_dl)\n",
    "\n",
    "        log_metric(\"train_loss\", train_loss, step=epoch)\n",
    "        log_metric(\"val_acc\", val_acc, step=epoch)\n",
    "        if not math.isnan(val_auc):\n",
    "            log_metric(\"val_auc\", val_auc, step=epoch)\n",
    "\n",
    "        # Track best model by AUC (fallback to loss if AUC is nan)\n",
    "        score = -val_acc  # smaller is better placeholder; swap if using loss\n",
    "        if best_state is None or val_acc > (-score):\n",
    "            best_state = {k: v.detach().cpu().clone() for k, v in model.state_dict().items()}\n",
    "\n",
    "    # Save artifacts\n",
    "    model.load_state_dict(best_state)\n",
    "    model_path = ARTIFACT_DIR / \"model.pt\"\n",
    "    torch.save(model.state_dict(), model_path.as_posix())\n",
    "\n",
    "    pre_path = ARTIFACT_DIR / \"preprocess.pkl\"\n",
    "    joblib.dump(pre_pipe, pre_path.as_posix())\n",
    "\n",
    "    # Plot ROC-like reliability: probability histogram\n",
    "    _, _, probs, targs, preds = evaluate(model, va_dl)\n",
    "    plt.figure()\n",
    "    plt.hist(probs, bins=50)\n",
    "    plt.title(\"Validation Probability Histogram\")\n",
    "    plt.xlabel(\"P(close>open)\")\n",
    "    plt.ylabel(\"Count\")\n",
    "    plt.savefig(ARTIFACT_DIR / \"val_prob_hist.png\")\n",
    "    plt.close()\n",
    "\n",
    "    # Confusion matrix\n",
    "    cm = confusion_matrix(targs, preds)\n",
    "    fig = plt.figure()\n",
    "    ax = fig.add_subplot(111)\n",
    "    im = ax.imshow(cm)\n",
    "    ax.set_title(\"Confusion Matrix (Validation)\")\n",
    "    ax.set_xlabel(\"Predicted\")\n",
    "    ax.set_ylabel(\"Actual\")\n",
    "    for (i, j), v in np.ndenumerate(cm):\n",
    "        ax.text(j, i, str(v), ha=\"center\", va=\"center\")\n",
    "    plt.tight_layout()\n",
    "    fig.savefig(ARTIFACT_DIR / \"val_confusion_matrix.png\")\n",
    "    plt.close(fig)\n",
    "\n",
    "    # Tar bundle for serving\n",
    "    spec = {\n",
    "        \"symbol\": SYMBOL,\n",
    "        \"in_features\": int(in_features),\n",
    "        \"lookback\": int(LOOKBACK),\n",
    "        \"feature_columns\": list(X.columns),\n",
    "        \"created_at\": datetime.utcnow().isoformat()\n",
    "    }\n",
    "    with open(ARTIFACT_DIR / \"feature_spec.json\", \"w\") as f:\n",
    "        json.dump(spec, f)\n",
    "\n",
    "    bundle_path = ARTIFACT_DIR / f\"{SYMBOL}_bundle.tar.gz\"\n",
    "    with tarfile.open(bundle_path.as_posix(), \"w:gz\") as tarf:\n",
    "        tarf.add(model_path.as_posix(), arcname=\"model.pt\")\n",
    "        tarf.add(pre_path.as_posix(), arcname=\"preprocess.pkl\")\n",
    "        tarf.add((ARTIFACT_DIR / \"feature_spec.json\").as_posix(), arcname=\"feature_spec.json\")\n",
    "\n",
    "    # Log artifacts to MLflow\n",
    "    log_artifact(model_path.as_posix())\n",
    "    log_artifact(pre_path.as_posix())\n",
    "    log_artifact((ARTIFACT_DIR / \"val_prob_hist.png\").as_posix())\n",
    "    log_artifact((ARTIFACT_DIR / \"val_confusion_matrix.png\").as_posix())\n",
    "    log_artifact(bundle_path.as_posix())\n",
    "\n",
    "print(\"Training complete. Check MLflow UI for runs.\")    "
   ]
  },
  {
   "cell_type": "code",
   "execution_count": 143,
   "metadata": {},
   "outputs": [],
   "source": [
    "# def evaluate(model, dl):\n",
    "#     model.eval()\n",
    "#     probs, targs = [], []\n",
    "#     cnt = 0\n",
    "#     # print(dl.shape)\n",
    "#     with torch.no_grad():\n",
    "#         for xb, yb in dl:\n",
    "#             if cnt ==  0:\n",
    "#                 print(type(xb))\n",
    "#                 print(xb.shape)\n",
    "#                 print(xb)\n",
    "#             cnt += 1\n",
    "#             logits = model(xb)\n",
    "#             p = torch.sigmoid(logits).cpu().numpy()\n",
    "#             probs.append(p)\n",
    "#             targs.append(yb.cpu().numpy())\n",
    "#     probs = np.concatenate(probs)\n",
    "#     targs = np.concatenate(targs)\n",
    "#     preds = (probs >= 0.5).astype(int)\n",
    "#     acc = accuracy_score(targs, preds)\n",
    "#     try:\n",
    "#         auc = roc_auc_score(targs, probs)\n",
    "#     except Exception:\n",
    "#         auc = float(\"nan\")\n",
    "#     return acc, auc, probs, targs, preds\n",
    "\n",
    "# evaluate(model, va_dl)\n"
   ]
  },
  {
   "cell_type": "code",
   "execution_count": 144,
   "metadata": {},
   "outputs": [],
   "source": [
    "# bundle = (ARTIFACT_DIR / f\"{SYMBOL}_bundle.tar.gz\").as_posix()\n",
    "# print(\"Bundle:\", bundle)\n",
    "\n",
    "# pre_pipe, state_dict, spec = load_bundle(bundle)\n",
    "# lookback = spec[\"lookback\"]\n",
    "# raw = yf.download(SYMBOL, period=f\"{lookback+30}d\", auto_adjust=False, progress=False)\n",
    "# raw = raw.stack(level=1, future_stack=True).reset_index()\n",
    "# # Rename 'level_1' to 'Ticker'\n",
    "# raw = raw.rename(columns={'level_1': 'Ticker'})\n",
    "# # Set Date back as index\n",
    "# raw = raw.set_index('Date')\n",
    "# raw = raw[['Open','High','Low','Close','Volume']].dropna()\n",
    "# X_all, _ = build_features(raw, lookback=lookback)\n",
    "\n",
    "# print(type(pre_pipe))\n",
    "# # print('check', X_all)\n",
    "# X_today = pre_pipe.transform(X_all)\n",
    "# # print('check', X_today)\n",
    "# # X_today = pre_pipe.transform(X_all.iloc[[-1]].values.astype(np.float32))\n",
    "\n",
    "# model = MLP(in_features=X_today.shape[1], hidden=HIDDEN, p=DROPOUT)\n",
    "# model.load_state_dict(state_dict)\n",
    "# model.eval()\n",
    "# # print('model:',type(model))"
   ]
  },
  {
   "cell_type": "markdown",
   "metadata": {},
   "source": [
    "## 7. Simple Inference Helper \n",
    "\n",
    "Cell reloads the saved bundle.tar.gz"
   ]
  },
  {
   "cell_type": "code",
   "execution_count": 145,
   "metadata": {},
   "outputs": [
    {
     "name": "stdout",
     "output_type": "stream",
     "text": [
      "Bundle: artifacts/AAPL_bundle.tar.gz\n",
      "X_today: (1, 182)\n",
      "Prediction for AAPL: 1 (prob=0.984)\n"
     ]
    }
   ],
   "source": [
    "def load_bundle(bundle_path: str):\n",
    "    with tarfile.open(bundle_path, mode=\"r:gz\") as tarf:\n",
    "        members = {m.name: m for m in tarf.getmembers()}\n",
    "        model_bytes = tarf.extractfile(members[\"model.pt\"]).read()\n",
    "        pre_bytes = tarf.extractfile(members[\"preprocess.pkl\"]).read()\n",
    "        spec = json.loads(tarf.extractfile(members[\"feature_spec.json\"]).read().decode(\"utf-8\"))\n",
    "    pre_pipe = joblib.load(io.BytesIO(pre_bytes))\n",
    "    state_dict = torch.load(io.BytesIO(model_bytes), map_location=\"cpu\")\n",
    "    return pre_pipe, state_dict, spec\n",
    "\n",
    "def predict_today(symbol: str, bundle_path: str):\n",
    "    pre_pipe, state_dict, spec = load_bundle(bundle_path)\n",
    "    lookback = spec[\"lookback\"]\n",
    "    raw = yf.download(symbol, period=f\"{lookback+30}d\", auto_adjust=False, progress=False)\n",
    "    raw = raw.stack(level=1, future_stack=True).reset_index()\n",
    "    # Rename 'level_1' to 'Ticker'\n",
    "    raw = raw.rename(columns={'level_1': 'Ticker'})\n",
    "    # Set Date back as index\n",
    "    raw = raw.set_index('Date')\n",
    "    raw = raw[['Open','High','Low','Close','Volume']].dropna()\n",
    "    X_all, _ = build_features(raw, lookback=lookback)\n",
    "    \n",
    "    # print('check', X_all)\n",
    "    X_today = pre_pipe.transform(X_all.iloc[[-1]])\n",
    "    print('X_today:',X_today.shape)\n",
    "    model = MLP(in_features=X_today.shape[1], hidden=HIDDEN, p=DROPOUT)\n",
    "    model.load_state_dict(state_dict)\n",
    "    model.eval()\n",
    "    # print('model:',model)\n",
    "    with torch.no_grad():\n",
    "        # prob = torch.sigmoid(model(torch.from_numpy(X_today))).item()\n",
    "        pred_ds = torch.from_numpy(X_today).float()\n",
    "        logits = model(pred_ds)\n",
    "        prob = torch.sigmoid(logits).cpu().numpy()\n",
    "    label = int(prob >= 0.5)\n",
    "    return label, float(prob)\n",
    "\n",
    "bundle = (ARTIFACT_DIR / f\"{SYMBOL}_bundle.tar.gz\").as_posix()\n",
    "print(\"Bundle:\", bundle)\n",
    "try:\n",
    "    yhat, p = predict_today(SYMBOL, bundle)\n",
    "    print(f\"Prediction for {SYMBOL}: {yhat} (prob={p:.3f})\")\n",
    "except Exception as e:\n",
    "    print(\"Prediction failed (likely due to data download in this environment). Run locally.\\n\", e)"
   ]
  },
  {
   "cell_type": "markdown",
   "metadata": {},
   "source": [
    "## 8. Running Multiple Experiments (Grid)"
   ]
  },
  {
   "cell_type": "code",
   "execution_count": 148,
   "metadata": {},
   "outputs": [
    {
     "name": "stdout",
     "output_type": "stream",
     "text": [
      "experiment 0\n"
     ]
    },
    {
     "name": "stderr",
     "output_type": "stream",
     "text": [
      "2025/08/08 21:04:49 INFO mlflow.utils.autologging_utils: Created MLflow autologging run with ID 'c52891fc141347a9b51f17ae3fc37f3e', which will track hyperparameters, performance metrics, model artifacts, and lineage information for the current sklearn workflow\n",
      "2025/08/08 21:04:50 WARNING mlflow.sklearn: Training metrics will not be recorded because training labels were not specified. To automatically record training metrics, provide training labels as inputs to the model training function.\n",
      "2025/08/08 21:04:50 WARNING mlflow.sklearn: Model was missing function: predict. Not logging python_function flavor!\n"
     ]
    },
    {
     "name": "stdout",
     "output_type": "stream",
     "text": [
      "experiment 1\n"
     ]
    },
    {
     "name": "stderr",
     "output_type": "stream",
     "text": [
      "2025/08/08 21:05:43 INFO mlflow.utils.autologging_utils: Created MLflow autologging run with ID 'f4ded21e2e2648eba750ff9f86b2db1d', which will track hyperparameters, performance metrics, model artifacts, and lineage information for the current sklearn workflow\n",
      "2025/08/08 21:05:47 WARNING mlflow.sklearn: Training metrics will not be recorded because training labels were not specified. To automatically record training metrics, provide training labels as inputs to the model training function.\n",
      "2025/08/08 21:05:47 WARNING mlflow.sklearn: Model was missing function: predict. Not logging python_function flavor!\n"
     ]
    },
    {
     "name": "stdout",
     "output_type": "stream",
     "text": [
      "experiment 2\n"
     ]
    },
    {
     "name": "stderr",
     "output_type": "stream",
     "text": [
      "2025/08/08 21:06:39 INFO mlflow.utils.autologging_utils: Created MLflow autologging run with ID '0f5a2257024340dc8e7485e7f606d9d7', which will track hyperparameters, performance metrics, model artifacts, and lineage information for the current sklearn workflow\n",
      "2025/08/08 21:06:43 WARNING mlflow.sklearn: Training metrics will not be recorded because training labels were not specified. To automatically record training metrics, provide training labels as inputs to the model training function.\n",
      "2025/08/08 21:06:43 WARNING mlflow.sklearn: Model was missing function: predict. Not logging python_function flavor!\n"
     ]
    },
    {
     "name": "stdout",
     "output_type": "stream",
     "text": [
      "experiment 3\n"
     ]
    },
    {
     "name": "stderr",
     "output_type": "stream",
     "text": [
      "2025/08/08 21:07:35 INFO mlflow.utils.autologging_utils: Created MLflow autologging run with ID '6f584e7352ee4bf0bd9aab3ac135e5b1', which will track hyperparameters, performance metrics, model artifacts, and lineage information for the current sklearn workflow\n",
      "2025/08/08 21:07:39 WARNING mlflow.sklearn: Training metrics will not be recorded because training labels were not specified. To automatically record training metrics, provide training labels as inputs to the model training function.\n",
      "2025/08/08 21:07:39 WARNING mlflow.sklearn: Model was missing function: predict. Not logging python_function flavor!\n"
     ]
    },
    {
     "name": "stdout",
     "output_type": "stream",
     "text": [
      "experiment 4\n"
     ]
    },
    {
     "name": "stderr",
     "output_type": "stream",
     "text": [
      "2025/08/08 21:08:31 INFO mlflow.utils.autologging_utils: Created MLflow autologging run with ID '657980a7585443a08f9fde3eb54bf1ff', which will track hyperparameters, performance metrics, model artifacts, and lineage information for the current sklearn workflow\n",
      "2025/08/08 21:08:35 WARNING mlflow.sklearn: Training metrics will not be recorded because training labels were not specified. To automatically record training metrics, provide training labels as inputs to the model training function.\n",
      "2025/08/08 21:08:35 WARNING mlflow.sklearn: Model was missing function: predict. Not logging python_function flavor!\n"
     ]
    },
    {
     "name": "stdout",
     "output_type": "stream",
     "text": [
      "experiment 5\n"
     ]
    },
    {
     "name": "stderr",
     "output_type": "stream",
     "text": [
      "2025/08/08 21:09:27 INFO mlflow.utils.autologging_utils: Created MLflow autologging run with ID '8e813348f3ea45a1bfe5c1b471b3bd20', which will track hyperparameters, performance metrics, model artifacts, and lineage information for the current sklearn workflow\n",
      "2025/08/08 21:09:31 WARNING mlflow.sklearn: Training metrics will not be recorded because training labels were not specified. To automatically record training metrics, provide training labels as inputs to the model training function.\n",
      "2025/08/08 21:09:31 WARNING mlflow.sklearn: Model was missing function: predict. Not logging python_function flavor!\n"
     ]
    },
    {
     "name": "stdout",
     "output_type": "stream",
     "text": [
      "experiment 6\n"
     ]
    },
    {
     "name": "stderr",
     "output_type": "stream",
     "text": [
      "2025/08/08 21:10:23 INFO mlflow.utils.autologging_utils: Created MLflow autologging run with ID '059f8c05aedf4df7aa3a1e5343929b18', which will track hyperparameters, performance metrics, model artifacts, and lineage information for the current sklearn workflow\n",
      "2025/08/08 21:10:27 WARNING mlflow.sklearn: Training metrics will not be recorded because training labels were not specified. To automatically record training metrics, provide training labels as inputs to the model training function.\n",
      "2025/08/08 21:10:27 WARNING mlflow.sklearn: Model was missing function: predict. Not logging python_function flavor!\n"
     ]
    },
    {
     "name": "stdout",
     "output_type": "stream",
     "text": [
      "experiment 7\n"
     ]
    },
    {
     "name": "stderr",
     "output_type": "stream",
     "text": [
      "2025/08/08 21:11:19 INFO mlflow.utils.autologging_utils: Created MLflow autologging run with ID '30272fef89584602a59333750d54ba1f', which will track hyperparameters, performance metrics, model artifacts, and lineage information for the current sklearn workflow\n",
      "2025/08/08 21:11:23 WARNING mlflow.sklearn: Training metrics will not be recorded because training labels were not specified. To automatically record training metrics, provide training labels as inputs to the model training function.\n",
      "2025/08/08 21:11:23 WARNING mlflow.sklearn: Model was missing function: predict. Not logging python_function flavor!\n"
     ]
    },
    {
     "name": "stdout",
     "output_type": "stream",
     "text": [
      "Grid function defined. Uncomment the loop to run experiments.\n"
     ]
    }
   ],
   "source": [
    "def run_experiment(symbol: str, lookback: int, hidden: int, lr: float, epochs: int = 10):\n",
    "    df = yf.download(symbol, period=PERIOD, auto_adjust=False, progress=False)\n",
    "    df = df.stack(level=1, future_stack=True).reset_index()\n",
    "    # Rename 'level_1' to 'Ticker'\n",
    "    df = df.rename(columns={'level_1': 'Ticker'})\n",
    "    # Set Date back as index\n",
    "    df = df.set_index('Date')\n",
    "    df = df[['Open','High','Low','Close','Volume']].dropna()\n",
    "    X, y = build_features(df, lookback)\n",
    "    n = len(X)\n",
    "    split = int(n * (1 - VAL_FRACTION))\n",
    "    X_tr, X_val = X.iloc[:split], X.iloc[split:]\n",
    "    y_tr, y_val = y.iloc[:split], y.iloc[split:]\n",
    "    pre = ColumnTransformer([(\"num\", StandardScaler(), X.columns.tolist())], remainder=\"drop\")\n",
    "    pipe = Pipeline([(\"pre\", pre)])\n",
    "    X_trs = pipe.fit_transform(X_tr)\n",
    "    X_vals = pipe.transform(X_val)\n",
    "\n",
    "    model = MLP(X_trs.shape[1], hidden=hidden, p=DROPOUT)\n",
    "    crit = nn.BCEWithLogitsLoss()\n",
    "    opt = torch.optim.Adam(model.parameters(), lr=lr)\n",
    "    tr_ds = TensorDataset(torch.from_numpy(X_trs).float(), torch.from_numpy(y_tr.values).float())\n",
    "    va_ds = TensorDataset(torch.from_numpy(X_vals).float(), torch.from_numpy(y_val.values).float())\n",
    "    tr_dl = DataLoader(tr_ds, batch_size=BATCH_SIZE, shuffle=True)\n",
    "    va_dl = DataLoader(va_ds, batch_size=BATCH_SIZE)\n",
    "\n",
    "    run_name = f\"{symbol}-lb{lookback}-h{hidden}-lr{lr}\"\n",
    "    with mlflow.start_run(run_name=run_name):\n",
    "        log_param(\"symbol\", symbol)\n",
    "        log_param(\"lookback\", lookback)\n",
    "        log_param(\"hidden\", hidden)\n",
    "        log_param(\"lr\", lr)\n",
    "        best = None\n",
    "        for epoch in range(epochs):\n",
    "            model.train()\n",
    "            total, count = 0.0, 0\n",
    "            for xb, yb in tr_dl:\n",
    "                opt.zero_grad(); logits = model(xb); loss = crit(logits, yb); loss.backward(); opt.step()\n",
    "                total += loss.item() * xb.size(0); count += xb.size(0)\n",
    "            train_loss = total / max(count,1)\n",
    "            log_metric(\"train_loss\", train_loss, step=epoch)\n",
    "            acc, auc, *_ = evaluate(model, va_dl)\n",
    "            log_metric(\"val_acc\", acc, step=epoch)\n",
    "            if not math.isnan(auc):\n",
    "                log_metric(\"val_auc\", auc, step=epoch)\n",
    "\n",
    "        # Save small artifacts\n",
    "        tmp_dir = ARTIFACT_DIR / f\"grid_lb{lookback}_h{hidden}_lr{lr}\"\n",
    "        tmp_dir.mkdir(exist_ok=True, parents=True)\n",
    "        joblib.dump(pipe, (tmp_dir / \"pre.pkl\").as_posix())\n",
    "        torch.save(model.state_dict(), (tmp_dir / \"model.pt\").as_posix())\n",
    "        log_artifact((tmp_dir / \"pre.pkl\").as_posix())\n",
    "        log_artifact((tmp_dir / \"model.pt\").as_posix())\n",
    "\n",
    "# Example grid (keep small to start). Uncomment to run locally.\n",
    "cnt = 0\n",
    "for lb in [7, 14]:\n",
    "    for h in [32, 64]:\n",
    "        for lr in [1e-3, 3e-3]:\n",
    "            print(f'experiment {cnt}')\n",
    "            run_experiment(SYMBOL, lb, h, lr, epochs=10)\n",
    "            cnt += 1\n",
    "# print(\"Grid function defined. Uncomment the loop to run experiments.\")"
   ]
  },
  {
   "cell_type": "code",
   "execution_count": null,
   "metadata": {},
   "outputs": [],
   "source": []
  },
  {
   "cell_type": "code",
   "execution_count": null,
   "metadata": {},
   "outputs": [],
   "source": []
  }
 ],
 "metadata": {
  "kernelspec": {
   "display_name": "Python 3.11.3 ('venv': venv)",
   "language": "python",
   "name": "python3"
  },
  "language_info": {
   "codemirror_mode": {
    "name": "ipython",
    "version": 3
   },
   "file_extension": ".py",
   "mimetype": "text/x-python",
   "name": "python",
   "nbconvert_exporter": "python",
   "pygments_lexer": "ipython3",
   "version": "3.11.3"
  },
  "orig_nbformat": 4,
  "vscode": {
   "interpreter": {
    "hash": "b77820448a20956664fc56282151e9cd409c1cd5fc4f934c1dc7ebb4947a2054"
   }
  }
 },
 "nbformat": 4,
 "nbformat_minor": 2
}
